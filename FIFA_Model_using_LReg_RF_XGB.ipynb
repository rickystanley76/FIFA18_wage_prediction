{
 "cells": [
  {
   "cell_type": "code",
   "execution_count": 22,
   "metadata": {},
   "outputs": [],
   "source": [
    "# Importing the required libraries\n",
    "import sklearn as sklearn\n",
    "import pandas as pd\n",
    "import numpy as np\n",
    "import seaborn as sns #visualisation\n",
    "import matplotlib.pyplot as plt #visualisation\n",
    "%matplotlib inline \n",
    "sns.set(color_codes=True)\n",
    "from sklearn.model_selection import train_test_split\n",
    "from sklearn.linear_model import LinearRegression\n",
    "from sklearn.feature_selection import RFE\n",
    "from sklearn.linear_model import RidgeCV, LassoCV, Ridge, Lasso#Loading the dataset"
   ]
  },
  {
   "cell_type": "code",
   "execution_count": 23,
   "metadata": {},
   "outputs": [],
   "source": [
    "import plotly.express as px\n",
    "from sklearn.model_selection import RandomizedSearchCV, GridSearchCV\n",
    "import pickle"
   ]
  },
  {
   "cell_type": "code",
   "execution_count": 24,
   "metadata": {},
   "outputs": [
    {
     "data": {
      "text/html": [
       "<div>\n",
       "<style scoped>\n",
       "    .dataframe tbody tr th:only-of-type {\n",
       "        vertical-align: middle;\n",
       "    }\n",
       "\n",
       "    .dataframe tbody tr th {\n",
       "        vertical-align: top;\n",
       "    }\n",
       "\n",
       "    .dataframe thead th {\n",
       "        text-align: right;\n",
       "    }\n",
       "</style>\n",
       "<table border=\"1\" class=\"dataframe\">\n",
       "  <thead>\n",
       "    <tr style=\"text-align: right;\">\n",
       "      <th></th>\n",
       "      <th>ID</th>\n",
       "      <th>Name</th>\n",
       "      <th>Age</th>\n",
       "      <th>Nationality</th>\n",
       "      <th>Overall</th>\n",
       "      <th>Potential</th>\n",
       "      <th>Club</th>\n",
       "      <th>Value</th>\n",
       "      <th>Wage</th>\n",
       "      <th>Special</th>\n",
       "      <th>...</th>\n",
       "      <th>RM</th>\n",
       "      <th>RS</th>\n",
       "      <th>RW</th>\n",
       "      <th>RWB</th>\n",
       "      <th>ST</th>\n",
       "      <th>Position</th>\n",
       "      <th>Position-DEF</th>\n",
       "      <th>Position-FWD</th>\n",
       "      <th>Position-GK</th>\n",
       "      <th>Position-MID</th>\n",
       "    </tr>\n",
       "  </thead>\n",
       "  <tbody>\n",
       "    <tr>\n",
       "      <th>0</th>\n",
       "      <td>20801</td>\n",
       "      <td>Cristiano Ronaldo</td>\n",
       "      <td>32</td>\n",
       "      <td>Portugal</td>\n",
       "      <td>94</td>\n",
       "      <td>94</td>\n",
       "      <td>Real Madrid CF</td>\n",
       "      <td>95500000</td>\n",
       "      <td>565000</td>\n",
       "      <td>2228</td>\n",
       "      <td>...</td>\n",
       "      <td>89</td>\n",
       "      <td>92</td>\n",
       "      <td>91</td>\n",
       "      <td>66</td>\n",
       "      <td>92</td>\n",
       "      <td>FWD</td>\n",
       "      <td>0</td>\n",
       "      <td>1</td>\n",
       "      <td>0</td>\n",
       "      <td>0</td>\n",
       "    </tr>\n",
       "    <tr>\n",
       "      <th>1</th>\n",
       "      <td>158023</td>\n",
       "      <td>L. Messi</td>\n",
       "      <td>30</td>\n",
       "      <td>Argentina</td>\n",
       "      <td>93</td>\n",
       "      <td>93</td>\n",
       "      <td>FC Barcelona</td>\n",
       "      <td>105000000</td>\n",
       "      <td>565000</td>\n",
       "      <td>2154</td>\n",
       "      <td>...</td>\n",
       "      <td>90</td>\n",
       "      <td>88</td>\n",
       "      <td>91</td>\n",
       "      <td>62</td>\n",
       "      <td>88</td>\n",
       "      <td>MID</td>\n",
       "      <td>0</td>\n",
       "      <td>0</td>\n",
       "      <td>0</td>\n",
       "      <td>1</td>\n",
       "    </tr>\n",
       "    <tr>\n",
       "      <th>2</th>\n",
       "      <td>190871</td>\n",
       "      <td>Neymar</td>\n",
       "      <td>25</td>\n",
       "      <td>Brazil</td>\n",
       "      <td>92</td>\n",
       "      <td>94</td>\n",
       "      <td>Paris Saint-Germain</td>\n",
       "      <td>123000000</td>\n",
       "      <td>280000</td>\n",
       "      <td>2100</td>\n",
       "      <td>...</td>\n",
       "      <td>87</td>\n",
       "      <td>84</td>\n",
       "      <td>89</td>\n",
       "      <td>64</td>\n",
       "      <td>84</td>\n",
       "      <td>MID</td>\n",
       "      <td>0</td>\n",
       "      <td>0</td>\n",
       "      <td>0</td>\n",
       "      <td>1</td>\n",
       "    </tr>\n",
       "    <tr>\n",
       "      <th>3</th>\n",
       "      <td>176580</td>\n",
       "      <td>L. Suárez</td>\n",
       "      <td>30</td>\n",
       "      <td>Uruguay</td>\n",
       "      <td>92</td>\n",
       "      <td>92</td>\n",
       "      <td>FC Barcelona</td>\n",
       "      <td>97000000</td>\n",
       "      <td>510000</td>\n",
       "      <td>2291</td>\n",
       "      <td>...</td>\n",
       "      <td>85</td>\n",
       "      <td>88</td>\n",
       "      <td>87</td>\n",
       "      <td>68</td>\n",
       "      <td>88</td>\n",
       "      <td>FWD</td>\n",
       "      <td>0</td>\n",
       "      <td>1</td>\n",
       "      <td>0</td>\n",
       "      <td>0</td>\n",
       "    </tr>\n",
       "    <tr>\n",
       "      <th>4</th>\n",
       "      <td>167495</td>\n",
       "      <td>M. Neuer</td>\n",
       "      <td>31</td>\n",
       "      <td>Germany</td>\n",
       "      <td>92</td>\n",
       "      <td>92</td>\n",
       "      <td>FC Bayern Munich</td>\n",
       "      <td>61000000</td>\n",
       "      <td>230000</td>\n",
       "      <td>1493</td>\n",
       "      <td>...</td>\n",
       "      <td>60</td>\n",
       "      <td>58</td>\n",
       "      <td>59</td>\n",
       "      <td>58</td>\n",
       "      <td>58</td>\n",
       "      <td>GK</td>\n",
       "      <td>0</td>\n",
       "      <td>0</td>\n",
       "      <td>1</td>\n",
       "      <td>0</td>\n",
       "    </tr>\n",
       "  </tbody>\n",
       "</table>\n",
       "<p>5 rows × 74 columns</p>\n",
       "</div>"
      ],
      "text/plain": [
       "       ID               Name  Age Nationality  Overall  Potential  \\\n",
       "0   20801  Cristiano Ronaldo   32    Portugal       94         94   \n",
       "1  158023           L. Messi   30   Argentina       93         93   \n",
       "2  190871             Neymar   25      Brazil       92         94   \n",
       "3  176580          L. Suárez   30     Uruguay       92         92   \n",
       "4  167495           M. Neuer   31     Germany       92         92   \n",
       "\n",
       "                  Club      Value    Wage  Special  ...  RM  RS  RW  RWB  ST  \\\n",
       "0       Real Madrid CF   95500000  565000     2228  ...  89  92  91   66  92   \n",
       "1         FC Barcelona  105000000  565000     2154  ...  90  88  91   62  88   \n",
       "2  Paris Saint-Germain  123000000  280000     2100  ...  87  84  89   64  84   \n",
       "3         FC Barcelona   97000000  510000     2291  ...  85  88  87   68  88   \n",
       "4     FC Bayern Munich   61000000  230000     1493  ...  60  58  59   58  58   \n",
       "\n",
       "   Position  Position-DEF  Position-FWD  Position-GK  Position-MID  \n",
       "0       FWD             0             1            0             0  \n",
       "1       MID             0             0            0             1  \n",
       "2       MID             0             0            0             1  \n",
       "3       FWD             0             1            0             0  \n",
       "4        GK             0             0            1             0  \n",
       "\n",
       "[5 rows x 74 columns]"
      ]
     },
     "execution_count": 24,
     "metadata": {},
     "output_type": "execute_result"
    }
   ],
   "source": [
    "df = pd.read_csv('playerAllInfo_aftermissingvales_no_normalization_4.csv')\n",
    "df.head(5)"
   ]
  },
  {
   "cell_type": "code",
   "execution_count": 25,
   "metadata": {},
   "outputs": [
    {
     "name": "stdout",
     "output_type": "stream",
     "text": [
      "<class 'pandas.core.frame.DataFrame'>\n",
      "RangeIndex: 17981 entries, 0 to 17980\n",
      "Data columns (total 74 columns):\n",
      "ID                    17981 non-null int64\n",
      "Name                  17981 non-null object\n",
      "Age                   17981 non-null int64\n",
      "Nationality           17981 non-null object\n",
      "Overall               17981 non-null int64\n",
      "Potential             17981 non-null int64\n",
      "Club                  17981 non-null object\n",
      "Value                 17981 non-null int64\n",
      "Wage                  17981 non-null int64\n",
      "Special               17981 non-null int64\n",
      "Acceleration          17981 non-null int64\n",
      "Aggression            17981 non-null int64\n",
      "Agility               17981 non-null int64\n",
      "Balance               17981 non-null int64\n",
      "Ball_control          17981 non-null int64\n",
      "Composure             17981 non-null int64\n",
      "Crossing              17981 non-null int64\n",
      "Curve                 17981 non-null int64\n",
      "Dribbling             17981 non-null int64\n",
      "Finishing             17981 non-null int64\n",
      "Free_kick_accuracy    17981 non-null int64\n",
      "GK_diving             17981 non-null int64\n",
      "GK_handling           17981 non-null int64\n",
      "GK_kicking            17981 non-null int64\n",
      "GK_positioning        17981 non-null int64\n",
      "GK_reflexes           17981 non-null int64\n",
      "Heading_accuracy      17981 non-null int64\n",
      "Interceptions         17981 non-null int64\n",
      "Jumping               17981 non-null int64\n",
      "Long_passing          17981 non-null int64\n",
      "Long_shots            17981 non-null int64\n",
      "Marking               17981 non-null int64\n",
      "Penalties             17981 non-null int64\n",
      "Positioning           17981 non-null int64\n",
      "Reactions             17981 non-null int64\n",
      "Short_passing         17981 non-null int64\n",
      "Shot_power            17981 non-null int64\n",
      "Sliding_tackle        17981 non-null int64\n",
      "Sprint_speed          17981 non-null int64\n",
      "Stamina               17981 non-null int64\n",
      "Standing_tackle       17981 non-null int64\n",
      "Strength              17981 non-null int64\n",
      "Vision                17981 non-null int64\n",
      "Volleys               17981 non-null int64\n",
      "CAM                   17981 non-null int64\n",
      "CB                    17981 non-null int64\n",
      "CDM                   17981 non-null int64\n",
      "CF                    17981 non-null int64\n",
      "CM                    17981 non-null int64\n",
      "LAM                   17981 non-null int64\n",
      "LB                    17981 non-null int64\n",
      "LCB                   17981 non-null int64\n",
      "LCM                   17981 non-null int64\n",
      "LDM                   17981 non-null int64\n",
      "LF                    17981 non-null int64\n",
      "LM                    17981 non-null int64\n",
      "LS                    17981 non-null int64\n",
      "LW                    17981 non-null int64\n",
      "LWB                   17981 non-null int64\n",
      "RAM                   17981 non-null int64\n",
      "RB                    17981 non-null int64\n",
      "RCM                   17981 non-null int64\n",
      "RDM                   17981 non-null int64\n",
      "RF                    17981 non-null int64\n",
      "RM                    17981 non-null int64\n",
      "RS                    17981 non-null int64\n",
      "RW                    17981 non-null int64\n",
      "RWB                   17981 non-null int64\n",
      "ST                    17981 non-null int64\n",
      "Position              17981 non-null object\n",
      "Position-DEF          17981 non-null int64\n",
      "Position-FWD          17981 non-null int64\n",
      "Position-GK           17981 non-null int64\n",
      "Position-MID          17981 non-null int64\n",
      "dtypes: int64(70), object(4)\n",
      "memory usage: 10.2+ MB\n"
     ]
    }
   ],
   "source": [
    "# To identify the type of data\n",
    "df.info()"
   ]
  },
  {
   "cell_type": "code",
   "execution_count": 26,
   "metadata": {},
   "outputs": [
    {
     "data": {
      "text/plain": [
       "(17981, 74)"
      ]
     },
     "execution_count": 26,
     "metadata": {},
     "output_type": "execute_result"
    }
   ],
   "source": [
    "# Getting the number of instances and features\n",
    "df.shape"
   ]
  },
  {
   "cell_type": "code",
   "execution_count": 27,
   "metadata": {},
   "outputs": [
    {
     "data": {
      "text/plain": [
       "2"
      ]
     },
     "execution_count": 27,
     "metadata": {},
     "output_type": "execute_result"
    }
   ],
   "source": [
    "# Getting the dimensions of the data frame\n",
    "df.ndim"
   ]
  },
  {
   "cell_type": "code",
   "execution_count": 28,
   "metadata": {},
   "outputs": [
    {
     "data": {
      "text/html": [
       "<div>\n",
       "<style scoped>\n",
       "    .dataframe tbody tr th:only-of-type {\n",
       "        vertical-align: middle;\n",
       "    }\n",
       "\n",
       "    .dataframe tbody tr th {\n",
       "        vertical-align: top;\n",
       "    }\n",
       "\n",
       "    .dataframe thead th {\n",
       "        text-align: right;\n",
       "    }\n",
       "</style>\n",
       "<table border=\"1\" class=\"dataframe\">\n",
       "  <thead>\n",
       "    <tr style=\"text-align: right;\">\n",
       "      <th></th>\n",
       "      <th>ID</th>\n",
       "      <th>Age</th>\n",
       "      <th>Overall</th>\n",
       "      <th>Potential</th>\n",
       "      <th>Value</th>\n",
       "      <th>Wage</th>\n",
       "      <th>Special</th>\n",
       "      <th>Acceleration</th>\n",
       "      <th>Aggression</th>\n",
       "      <th>Agility</th>\n",
       "      <th>...</th>\n",
       "      <th>RF</th>\n",
       "      <th>RM</th>\n",
       "      <th>RS</th>\n",
       "      <th>RW</th>\n",
       "      <th>RWB</th>\n",
       "      <th>ST</th>\n",
       "      <th>Position-DEF</th>\n",
       "      <th>Position-FWD</th>\n",
       "      <th>Position-GK</th>\n",
       "      <th>Position-MID</th>\n",
       "    </tr>\n",
       "  </thead>\n",
       "  <tbody>\n",
       "    <tr>\n",
       "      <th>count</th>\n",
       "      <td>17981.000000</td>\n",
       "      <td>17981.000000</td>\n",
       "      <td>17981.000000</td>\n",
       "      <td>17981.000000</td>\n",
       "      <td>1.798100e+04</td>\n",
       "      <td>17981.000000</td>\n",
       "      <td>17981.000000</td>\n",
       "      <td>17981.000000</td>\n",
       "      <td>17981.000000</td>\n",
       "      <td>17981.000000</td>\n",
       "      <td>...</td>\n",
       "      <td>17981.000000</td>\n",
       "      <td>17981.000000</td>\n",
       "      <td>17981.000000</td>\n",
       "      <td>17981.000000</td>\n",
       "      <td>17981.000000</td>\n",
       "      <td>17981.000000</td>\n",
       "      <td>17981.000000</td>\n",
       "      <td>17981.000000</td>\n",
       "      <td>17981.000000</td>\n",
       "      <td>17981.000000</td>\n",
       "    </tr>\n",
       "    <tr>\n",
       "      <th>mean</th>\n",
       "      <td>207658.710138</td>\n",
       "      <td>25.144541</td>\n",
       "      <td>66.247984</td>\n",
       "      <td>71.190813</td>\n",
       "      <td>2.385390e+06</td>\n",
       "      <td>11546.966242</td>\n",
       "      <td>1594.095100</td>\n",
       "      <td>103.445526</td>\n",
       "      <td>77.620711</td>\n",
       "      <td>98.149880</td>\n",
       "      <td>...</td>\n",
       "      <td>59.026639</td>\n",
       "      <td>60.051221</td>\n",
       "      <td>58.181024</td>\n",
       "      <td>59.318725</td>\n",
       "      <td>57.732718</td>\n",
       "      <td>58.181024</td>\n",
       "      <td>0.302542</td>\n",
       "      <td>0.138035</td>\n",
       "      <td>0.112841</td>\n",
       "      <td>0.446583</td>\n",
       "    </tr>\n",
       "    <tr>\n",
       "      <th>std</th>\n",
       "      <td>32291.667313</td>\n",
       "      <td>4.614272</td>\n",
       "      <td>6.987965</td>\n",
       "      <td>6.102199</td>\n",
       "      <td>5.353970e+06</td>\n",
       "      <td>23080.000139</td>\n",
       "      <td>272.151435</td>\n",
       "      <td>984.876244</td>\n",
       "      <td>768.805831</td>\n",
       "      <td>909.694714</td>\n",
       "      <td>...</td>\n",
       "      <td>9.350112</td>\n",
       "      <td>8.805897</td>\n",
       "      <td>8.648081</td>\n",
       "      <td>9.398922</td>\n",
       "      <td>8.612042</td>\n",
       "      <td>8.648081</td>\n",
       "      <td>0.459371</td>\n",
       "      <td>0.344946</td>\n",
       "      <td>0.316408</td>\n",
       "      <td>0.497152</td>\n",
       "    </tr>\n",
       "    <tr>\n",
       "      <th>min</th>\n",
       "      <td>16.000000</td>\n",
       "      <td>16.000000</td>\n",
       "      <td>46.000000</td>\n",
       "      <td>46.000000</td>\n",
       "      <td>0.000000e+00</td>\n",
       "      <td>0.000000</td>\n",
       "      <td>728.000000</td>\n",
       "      <td>11.000000</td>\n",
       "      <td>11.000000</td>\n",
       "      <td>14.000000</td>\n",
       "      <td>...</td>\n",
       "      <td>27.000000</td>\n",
       "      <td>28.000000</td>\n",
       "      <td>31.000000</td>\n",
       "      <td>26.000000</td>\n",
       "      <td>31.000000</td>\n",
       "      <td>31.000000</td>\n",
       "      <td>0.000000</td>\n",
       "      <td>0.000000</td>\n",
       "      <td>0.000000</td>\n",
       "      <td>0.000000</td>\n",
       "    </tr>\n",
       "    <tr>\n",
       "      <th>25%</th>\n",
       "      <td>192622.000000</td>\n",
       "      <td>21.000000</td>\n",
       "      <td>62.000000</td>\n",
       "      <td>67.000000</td>\n",
       "      <td>3.000000e+05</td>\n",
       "      <td>2000.000000</td>\n",
       "      <td>1449.000000</td>\n",
       "      <td>56.000000</td>\n",
       "      <td>43.000000</td>\n",
       "      <td>55.000000</td>\n",
       "      <td>...</td>\n",
       "      <td>54.000000</td>\n",
       "      <td>55.000000</td>\n",
       "      <td>53.000000</td>\n",
       "      <td>54.000000</td>\n",
       "      <td>52.000000</td>\n",
       "      <td>53.000000</td>\n",
       "      <td>0.000000</td>\n",
       "      <td>0.000000</td>\n",
       "      <td>0.000000</td>\n",
       "      <td>0.000000</td>\n",
       "    </tr>\n",
       "    <tr>\n",
       "      <th>50%</th>\n",
       "      <td>214057.000000</td>\n",
       "      <td>25.000000</td>\n",
       "      <td>66.000000</td>\n",
       "      <td>71.000000</td>\n",
       "      <td>6.750000e+05</td>\n",
       "      <td>4000.000000</td>\n",
       "      <td>1633.000000</td>\n",
       "      <td>67.000000</td>\n",
       "      <td>59.000000</td>\n",
       "      <td>65.000000</td>\n",
       "      <td>...</td>\n",
       "      <td>59.000000</td>\n",
       "      <td>60.000000</td>\n",
       "      <td>58.000000</td>\n",
       "      <td>59.000000</td>\n",
       "      <td>58.000000</td>\n",
       "      <td>58.000000</td>\n",
       "      <td>0.000000</td>\n",
       "      <td>0.000000</td>\n",
       "      <td>0.000000</td>\n",
       "      <td>0.000000</td>\n",
       "    </tr>\n",
       "    <tr>\n",
       "      <th>75%</th>\n",
       "      <td>231448.000000</td>\n",
       "      <td>28.000000</td>\n",
       "      <td>71.000000</td>\n",
       "      <td>75.000000</td>\n",
       "      <td>2.100000e+06</td>\n",
       "      <td>12000.000000</td>\n",
       "      <td>1786.000000</td>\n",
       "      <td>75.000000</td>\n",
       "      <td>69.000000</td>\n",
       "      <td>74.000000</td>\n",
       "      <td>...</td>\n",
       "      <td>65.000000</td>\n",
       "      <td>66.000000</td>\n",
       "      <td>64.000000</td>\n",
       "      <td>66.000000</td>\n",
       "      <td>64.000000</td>\n",
       "      <td>64.000000</td>\n",
       "      <td>1.000000</td>\n",
       "      <td>0.000000</td>\n",
       "      <td>0.000000</td>\n",
       "      <td>1.000000</td>\n",
       "    </tr>\n",
       "    <tr>\n",
       "      <th>max</th>\n",
       "      <td>241219.000000</td>\n",
       "      <td>47.000000</td>\n",
       "      <td>94.000000</td>\n",
       "      <td>94.000000</td>\n",
       "      <td>1.230000e+08</td>\n",
       "      <td>565000.000000</td>\n",
       "      <td>2291.000000</td>\n",
       "      <td>33270.000000</td>\n",
       "      <td>43495.000000</td>\n",
       "      <td>30164.000000</td>\n",
       "      <td>...</td>\n",
       "      <td>92.000000</td>\n",
       "      <td>90.000000</td>\n",
       "      <td>92.000000</td>\n",
       "      <td>91.000000</td>\n",
       "      <td>84.000000</td>\n",
       "      <td>92.000000</td>\n",
       "      <td>1.000000</td>\n",
       "      <td>1.000000</td>\n",
       "      <td>1.000000</td>\n",
       "      <td>1.000000</td>\n",
       "    </tr>\n",
       "  </tbody>\n",
       "</table>\n",
       "<p>8 rows × 70 columns</p>\n",
       "</div>"
      ],
      "text/plain": [
       "                  ID           Age       Overall     Potential         Value  \\\n",
       "count   17981.000000  17981.000000  17981.000000  17981.000000  1.798100e+04   \n",
       "mean   207658.710138     25.144541     66.247984     71.190813  2.385390e+06   \n",
       "std     32291.667313      4.614272      6.987965      6.102199  5.353970e+06   \n",
       "min        16.000000     16.000000     46.000000     46.000000  0.000000e+00   \n",
       "25%    192622.000000     21.000000     62.000000     67.000000  3.000000e+05   \n",
       "50%    214057.000000     25.000000     66.000000     71.000000  6.750000e+05   \n",
       "75%    231448.000000     28.000000     71.000000     75.000000  2.100000e+06   \n",
       "max    241219.000000     47.000000     94.000000     94.000000  1.230000e+08   \n",
       "\n",
       "                Wage       Special  Acceleration    Aggression       Agility  \\\n",
       "count   17981.000000  17981.000000  17981.000000  17981.000000  17981.000000   \n",
       "mean    11546.966242   1594.095100    103.445526     77.620711     98.149880   \n",
       "std     23080.000139    272.151435    984.876244    768.805831    909.694714   \n",
       "min         0.000000    728.000000     11.000000     11.000000     14.000000   \n",
       "25%      2000.000000   1449.000000     56.000000     43.000000     55.000000   \n",
       "50%      4000.000000   1633.000000     67.000000     59.000000     65.000000   \n",
       "75%     12000.000000   1786.000000     75.000000     69.000000     74.000000   \n",
       "max    565000.000000   2291.000000  33270.000000  43495.000000  30164.000000   \n",
       "\n",
       "       ...            RF            RM            RS            RW  \\\n",
       "count  ...  17981.000000  17981.000000  17981.000000  17981.000000   \n",
       "mean   ...     59.026639     60.051221     58.181024     59.318725   \n",
       "std    ...      9.350112      8.805897      8.648081      9.398922   \n",
       "min    ...     27.000000     28.000000     31.000000     26.000000   \n",
       "25%    ...     54.000000     55.000000     53.000000     54.000000   \n",
       "50%    ...     59.000000     60.000000     58.000000     59.000000   \n",
       "75%    ...     65.000000     66.000000     64.000000     66.000000   \n",
       "max    ...     92.000000     90.000000     92.000000     91.000000   \n",
       "\n",
       "                RWB            ST  Position-DEF  Position-FWD   Position-GK  \\\n",
       "count  17981.000000  17981.000000  17981.000000  17981.000000  17981.000000   \n",
       "mean      57.732718     58.181024      0.302542      0.138035      0.112841   \n",
       "std        8.612042      8.648081      0.459371      0.344946      0.316408   \n",
       "min       31.000000     31.000000      0.000000      0.000000      0.000000   \n",
       "25%       52.000000     53.000000      0.000000      0.000000      0.000000   \n",
       "50%       58.000000     58.000000      0.000000      0.000000      0.000000   \n",
       "75%       64.000000     64.000000      1.000000      0.000000      0.000000   \n",
       "max       84.000000     92.000000      1.000000      1.000000      1.000000   \n",
       "\n",
       "       Position-MID  \n",
       "count  17981.000000  \n",
       "mean       0.446583  \n",
       "std        0.497152  \n",
       "min        0.000000  \n",
       "25%        0.000000  \n",
       "50%        0.000000  \n",
       "75%        1.000000  \n",
       "max        1.000000  \n",
       "\n",
       "[8 rows x 70 columns]"
      ]
     },
     "execution_count": 28,
     "metadata": {},
     "output_type": "execute_result"
    }
   ],
   "source": [
    "df.describe()"
   ]
  },
  {
   "cell_type": "code",
   "execution_count": 29,
   "metadata": {},
   "outputs": [
    {
     "data": {
      "text/html": [
       "<div>\n",
       "<style scoped>\n",
       "    .dataframe tbody tr th:only-of-type {\n",
       "        vertical-align: middle;\n",
       "    }\n",
       "\n",
       "    .dataframe tbody tr th {\n",
       "        vertical-align: top;\n",
       "    }\n",
       "\n",
       "    .dataframe thead th {\n",
       "        text-align: right;\n",
       "    }\n",
       "</style>\n",
       "<table border=\"1\" class=\"dataframe\">\n",
       "  <thead>\n",
       "    <tr style=\"text-align: right;\">\n",
       "      <th></th>\n",
       "      <th>Overall</th>\n",
       "      <th>Potential</th>\n",
       "      <th>Value</th>\n",
       "    </tr>\n",
       "  </thead>\n",
       "  <tbody>\n",
       "    <tr>\n",
       "      <th>0</th>\n",
       "      <td>94</td>\n",
       "      <td>94</td>\n",
       "      <td>95500000</td>\n",
       "    </tr>\n",
       "    <tr>\n",
       "      <th>1</th>\n",
       "      <td>93</td>\n",
       "      <td>93</td>\n",
       "      <td>105000000</td>\n",
       "    </tr>\n",
       "    <tr>\n",
       "      <th>2</th>\n",
       "      <td>92</td>\n",
       "      <td>94</td>\n",
       "      <td>123000000</td>\n",
       "    </tr>\n",
       "    <tr>\n",
       "      <th>3</th>\n",
       "      <td>92</td>\n",
       "      <td>92</td>\n",
       "      <td>97000000</td>\n",
       "    </tr>\n",
       "    <tr>\n",
       "      <th>4</th>\n",
       "      <td>92</td>\n",
       "      <td>92</td>\n",
       "      <td>61000000</td>\n",
       "    </tr>\n",
       "  </tbody>\n",
       "</table>\n",
       "</div>"
      ],
      "text/plain": [
       "   Overall  Potential      Value\n",
       "0       94         94   95500000\n",
       "1       93         93  105000000\n",
       "2       92         94  123000000\n",
       "3       92         92   97000000\n",
       "4       92         92   61000000"
      ]
     },
     "execution_count": 29,
     "metadata": {},
     "output_type": "execute_result"
    }
   ],
   "source": [
    "##Creating new dataframe having only required columns\n",
    "df_req = df[['Overall', 'Potential','Value']]\n",
    "df_req.head()"
   ]
  },
  {
   "cell_type": "markdown",
   "metadata": {},
   "source": [
    "### Predicting the Wage using Linear Regression"
   ]
  },
  {
   "cell_type": "code",
   "execution_count": 30,
   "metadata": {},
   "outputs": [],
   "source": [
    "X= df_req\n",
    "\n",
    "##X= df.drop(['ID','Name','Wage', 'Nationality','Position','Club'], axis=1) ##Independent Variable\n",
    "y= df['Wage'] ##Class or dependent variable"
   ]
  },
  {
   "cell_type": "code",
   "execution_count": 31,
   "metadata": {},
   "outputs": [
    {
     "data": {
      "text/plain": [
       "0    565000\n",
       "1    565000\n",
       "2    280000\n",
       "3    510000\n",
       "4    230000\n",
       "Name: Wage, dtype: int64"
      ]
     },
     "execution_count": 31,
     "metadata": {},
     "output_type": "execute_result"
    }
   ],
   "source": [
    "y.head()"
   ]
  },
  {
   "cell_type": "code",
   "execution_count": 33,
   "metadata": {},
   "outputs": [],
   "source": [
    "from sklearn.model_selection import train_test_split\n",
    "\n",
    "from sklearn import metrics \n",
    "\n",
    "X_train, X_test, y_train, y_test = train_test_split(X,y,test_size= 0.20)"
   ]
  },
  {
   "cell_type": "code",
   "execution_count": 37,
   "metadata": {},
   "outputs": [],
   "source": [
    "##initiate the model\n",
    "model= LinearRegression()\n",
    "##Fiting the model\n",
    "model_fit= model.fit(X_train, y_train)"
   ]
  },
  {
   "cell_type": "code",
   "execution_count": 38,
   "metadata": {},
   "outputs": [],
   "source": [
    "##Testing the model\n",
    "test_predict = model_fit.predict(X_test)"
   ]
  },
  {
   "cell_type": "code",
   "execution_count": 52,
   "metadata": {},
   "outputs": [
    {
     "name": "stdout",
     "output_type": "stream",
     "text": [
      "Root Mean squared error RMSE: 11209.539216515175\n"
     ]
    }
   ],
   "source": [
    "##Root Mean Square error(RMSE)\n",
    "rmse_lreg= np.sqrt(metrics.mean_squared_error(y_test, test_predict))\n",
    "print('Root Mean squared error RMSE: ' +str(rmse_lreg))"
   ]
  },
  {
   "cell_type": "code",
   "execution_count": 53,
   "metadata": {},
   "outputs": [
    {
     "name": "stdout",
     "output_type": "stream",
     "text": [
      "R2 SCORE ON TEST DATA: 0.7116537094550033\n"
     ]
    }
   ],
   "source": [
    "from sklearn.metrics import r2_score\n",
    "r2_lreg = r2_score(y_test, test_predict)\n",
    "print(\"R2 SCORE ON TEST DATA: {}\".format(r2_lreg))"
   ]
  },
  {
   "cell_type": "markdown",
   "metadata": {},
   "source": [
    "### Predicting and Test evaluating the Wage using RandomForest\n"
   ]
  },
  {
   "cell_type": "code",
   "execution_count": 34,
   "metadata": {},
   "outputs": [],
   "source": [
    "# Fitting Random Forest Regression to the dataset\n",
    "from sklearn.ensemble import RandomForestRegressor\n",
    "modelRF = RandomForestRegressor(n_estimators = 500, random_state = 0)\n",
    "model_fit_RF= modelRF.fit(X_train, y_train)\n",
    "##Testing the model\n",
    "test_predict_RF = model_fit_RF.predict(X_test)"
   ]
  },
  {
   "cell_type": "code",
   "execution_count": 54,
   "metadata": {},
   "outputs": [
    {
     "name": "stdout",
     "output_type": "stream",
     "text": [
      "RMSE: 11416.643615\n"
     ]
    }
   ],
   "source": [
    "from sklearn.metrics import mean_squared_error\n",
    "rmse_rf = np.sqrt(mean_squared_error(y_test, test_predict_RF))\n",
    "print(\"RMSE: %f\" % (rmse_rf))"
   ]
  },
  {
   "cell_type": "code",
   "execution_count": 55,
   "metadata": {},
   "outputs": [
    {
     "name": "stdout",
     "output_type": "stream",
     "text": [
      "R2 SCORE ON TEST DATA: 0.7009004664103766\n"
     ]
    }
   ],
   "source": [
    "from sklearn.metrics import r2_score\n",
    "r2_rf = r2_score(y_test, test_predict_RF)\n",
    "print(\"R2 SCORE ON TEST DATA: {}\".format(r2_rf))"
   ]
  },
  {
   "cell_type": "code",
   "execution_count": 75,
   "metadata": {},
   "outputs": [],
   "source": [
    "# Saving model to disk\n",
    "##pickle.dump(modelRF, open('model_RF.pkl','wb'))"
   ]
  },
  {
   "cell_type": "code",
   "execution_count": 76,
   "metadata": {},
   "outputs": [
    {
     "name": "stdout",
     "output_type": "stream",
     "text": [
      "[94040.]\n"
     ]
    }
   ],
   "source": [
    "# Loading model to compare the results\n",
    "##model = pickle.load(open('model_RF.pkl','rb'))\n",
    "##print(model.predict([[85, 82, 22000000]]))"
   ]
  },
  {
   "cell_type": "markdown",
   "metadata": {},
   "source": [
    "### Predicting using XGBoost"
   ]
  },
  {
   "cell_type": "code",
   "execution_count": 41,
   "metadata": {},
   "outputs": [],
   "source": [
    "import xgboost\n",
    "import scipy.stats as st\n",
    "\n",
    "one_to_left = st.beta(10, 1)  \n",
    "from_zero_positive = st.expon(0, 50)\n",
    "\n",
    "params = {  \n",
    "    \"n_estimators\": st.randint(3, 40),\n",
    "    \"max_depth\": st.randint(3, 40),\n",
    "    \"learning_rate\": st.uniform(0.05, 0.4),\n",
    "    \"colsample_bytree\": one_to_left,\n",
    "    \"subsample\": one_to_left,\n",
    "    \"gamma\": st.uniform(0, 10),\n",
    "    'reg_alpha': from_zero_positive,\n",
    "    \"min_child_weight\": from_zero_positive,\n",
    "}\n",
    "\n",
    "xgbreg = xgboost.XGBRegressor(nthreads=-1) "
   ]
  },
  {
   "cell_type": "code",
   "execution_count": 42,
   "metadata": {},
   "outputs": [],
   "source": [
    "## Hyperparameter optimization using RandomizedSearchCV\n",
    "from sklearn.model_selection import RandomizedSearchCV\n"
   ]
  },
  {
   "cell_type": "code",
   "execution_count": 45,
   "metadata": {},
   "outputs": [],
   "source": [
    "random_search=RandomizedSearchCV(xgbreg,params,n_iter=10,n_jobs=-1,cv=10,verbose=3)"
   ]
  },
  {
   "cell_type": "code",
   "execution_count": 46,
   "metadata": {},
   "outputs": [],
   "source": [
    "\n",
    "def timer(start_time=None):\n",
    "    if not start_time:\n",
    "        start_time = datetime.now()\n",
    "        return start_time\n",
    "    elif start_time:\n",
    "        thour, temp_sec = divmod((datetime.now() - start_time).total_seconds(), 3600)\n",
    "        tmin, tsec = divmod(temp_sec, 60)\n",
    "        print('\\n Time taken: %i hours %i minutes and %s seconds.' % (thour, tmin, round(tsec, 2)))\n"
   ]
  },
  {
   "cell_type": "code",
   "execution_count": 47,
   "metadata": {},
   "outputs": [
    {
     "name": "stdout",
     "output_type": "stream",
     "text": [
      "Fitting 10 folds for each of 10 candidates, totalling 100 fits\n"
     ]
    },
    {
     "name": "stderr",
     "output_type": "stream",
     "text": [
      "[Parallel(n_jobs=-1)]: Using backend LokyBackend with 8 concurrent workers.\n",
      "[Parallel(n_jobs=-1)]: Done  16 tasks      | elapsed:   13.4s\n",
      "[Parallel(n_jobs=-1)]: Done 100 out of 100 | elapsed:   16.7s finished\n"
     ]
    },
    {
     "name": "stdout",
     "output_type": "stream",
     "text": [
      "[11:33:04] WARNING: src/objective/regression_obj.cu:152: reg:linear is now deprecated in favor of reg:squarederror.\n",
      "\n",
      " Time taken: 0 hours 0 minutes and 16.86 seconds.\n"
     ]
    }
   ],
   "source": [
    "from datetime import datetime\n",
    "# Here we go\n",
    "start_time = timer(None) # timing starts from this point for \"start_time\" variable\n",
    "random_search.fit(X_train,y_train.ravel())\n",
    "timer(start_time) # timing ends here for \"start_time\" variable"
   ]
  },
  {
   "cell_type": "code",
   "execution_count": 48,
   "metadata": {},
   "outputs": [
    {
     "data": {
      "text/plain": [
       "XGBRegressor(base_score=0.5, booster='gbtree', colsample_bylevel=1,\n",
       "       colsample_bynode=1, colsample_bytree=0.8729940430674914,\n",
       "       gamma=5.3742382843959415, importance_type='gain',\n",
       "       learning_rate=0.33238702603934533, max_delta_step=0, max_depth=6,\n",
       "       min_child_weight=36.86440238750611, missing=None, n_estimators=18,\n",
       "       n_jobs=1, nthread=None, nthreads=-1, objective='reg:linear',\n",
       "       random_state=0, reg_alpha=77.50839220448292, reg_lambda=1,\n",
       "       scale_pos_weight=1, seed=None, silent=None,\n",
       "       subsample=0.9815950743972734, verbosity=1)"
      ]
     },
     "execution_count": 48,
     "metadata": {},
     "output_type": "execute_result"
    }
   ],
   "source": [
    "random_search.best_estimator_"
   ]
  },
  {
   "cell_type": "code",
   "execution_count": 49,
   "metadata": {},
   "outputs": [],
   "source": [
    "modelXGB=xgboost.XGBRegressor(base_score=0.5, booster='gbtree', colsample_bylevel=1,\n",
    "       colsample_bynode=1, colsample_bytree=0.8729940430674914,\n",
    "       gamma=5.3742382843959415, importance_type='gain',\n",
    "       learning_rate=0.33238702603934533, max_delta_step=0, max_depth=6,\n",
    "       min_child_weight=36.86440238750611, missing=None, n_estimators=18,\n",
    "       n_jobs=1, nthread=None, nthreads=-1, objective='reg:linear',\n",
    "       random_state=0, reg_alpha=77.50839220448292, reg_lambda=1,\n",
    "       scale_pos_weight=1, seed=None, silent=None,\n",
    "       subsample=0.9815950743972734, verbosity=1)"
   ]
  },
  {
   "cell_type": "code",
   "execution_count": 56,
   "metadata": {},
   "outputs": [
    {
     "name": "stderr",
     "output_type": "stream",
     "text": [
      "C:\\ProgramData\\Anaconda3\\lib\\site-packages\\xgboost\\core.py:587: FutureWarning:\n",
      "\n",
      "Series.base is deprecated and will be removed in a future version\n",
      "\n"
     ]
    },
    {
     "name": "stdout",
     "output_type": "stream",
     "text": [
      "[12:00:48] WARNING: src/objective/regression_obj.cu:152: reg:linear is now deprecated in favor of reg:squarederror.\n",
      "R2 SCORE ON TEST DATA: 0.7338511164484186\n"
     ]
    }
   ],
   "source": [
    "modelXGB.fit(X_train,y_train)\n",
    "test_predict_XGB = modelXGB.predict(X_test)\n",
    "# Predict (after fitting GridSearchCV is an estimator with best parameters)\n",
    "y_pred = modelXGB.predict(X_test)\n",
    " \n",
    "# Score\n",
    "from sklearn.metrics import r2_score\n",
    "r2_xgb = r2_score(y_test, y_pred)\n",
    "print(\"R2 SCORE ON TEST DATA: {}\".format(r2_xgb))"
   ]
  },
  {
   "cell_type": "code",
   "execution_count": 51,
   "metadata": {},
   "outputs": [
    {
     "name": "stdout",
     "output_type": "stream",
     "text": [
      "RMSE: 10769.434536\n"
     ]
    }
   ],
   "source": [
    "from sklearn.metrics import mean_squared_error\n",
    "rmse_xgb = np.sqrt(mean_squared_error(y_test, test_predict_XGB))\n",
    "print(\"RMSE: %f\" % (rmse_xgb))"
   ]
  }
 ],
 "metadata": {
  "kernelspec": {
   "display_name": "Python 3",
   "language": "python",
   "name": "python3"
  },
  "language_info": {
   "codemirror_mode": {
    "name": "ipython",
    "version": 3
   },
   "file_extension": ".py",
   "mimetype": "text/x-python",
   "name": "python",
   "nbconvert_exporter": "python",
   "pygments_lexer": "ipython3",
   "version": "3.7.3"
  }
 },
 "nbformat": 4,
 "nbformat_minor": 2
}
